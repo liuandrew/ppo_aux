{
 "cells": [
  {
   "cell_type": "code",
   "execution_count": 1,
   "id": "de29f672-0f84-4257-9d48-624b7a7b17be",
   "metadata": {},
   "outputs": [],
   "source": [
    "import gym\n",
    "import torch\n",
    "import gym_nav\n",
    "import numpy as np\n",
    "\n",
    "import sys\n",
    "sys.path.append('../')\n",
    "from evaluation import *\n",
    "from model_evaluation import *\n",
    "from trajectories import *\n",
    "from shortcut_analysis import *\n",
    "from explore_analysis import *\n",
    "\n",
    "from tqdm import tqdm\n",
    "from umap import UMAP\n",
    "from sklearn.cluster import KMeans\n",
    "from sklearn.metrics import pairwise_distances\n",
    "\n",
    "pplt.rc.update({'font.size': 10})"
   ]
  },
  {
   "cell_type": "markdown",
   "id": "bc668d94-9353-4cea-aeca-df74873689cc",
   "metadata": {},
   "source": [
    "# Learning curves and control performance"
   ]
  },
  {
   "cell_type": "code",
   "execution_count": null,
   "id": "b9f2b141-8a9b-418a-b33a-ddc3d58d811e",
   "metadata": {},
   "outputs": [],
   "source": []
  }
 ],
 "metadata": {
  "kernelspec": {
   "display_name": "Python 3 (ipykernel)",
   "language": "python",
   "name": "python3"
  },
  "language_info": {
   "codemirror_mode": {
    "name": "ipython",
    "version": 3
   },
   "file_extension": ".py",
   "mimetype": "text/x-python",
   "name": "python",
   "nbconvert_exporter": "python",
   "pygments_lexer": "ipython3",
   "version": "3.9.12"
  }
 },
 "nbformat": 4,
 "nbformat_minor": 5
}
